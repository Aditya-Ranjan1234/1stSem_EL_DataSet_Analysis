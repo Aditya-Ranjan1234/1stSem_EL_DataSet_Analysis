{
 "cells": [
  {
   "cell_type": "code",
   "execution_count": 9,
   "metadata": {},
   "outputs": [],
   "source": [
    "import pandas as pd\n",
    "import numpy as np\n",
    "import matplotlib.pyplot as plt\n",
    "import sqlite3\n",
    "import seaborn as sns"
   ]
  },
  {
   "cell_type": "code",
   "execution_count": 10,
   "metadata": {},
   "outputs": [],
   "source": [
    "data= pd.read_csv('netflix.csv')\n",
    "arr = np.array(data)"
   ]
  },
  {
   "cell_type": "code",
   "execution_count": null,
   "metadata": {},
   "outputs": [],
   "source": [
    "print(np.mean(data.imdb_votes, axis=0))\n",
    "print()\n",
    "print(np.mean(data.imdb_score, axis=0))\n",
    "print()\n",
    "print(np.max(data.imdb_score, axis=0))\n",
    "print()\n",
    "sorted_ind = np.argsort(arr[:,9])\n",
    "sorted_data = arr[sorted_ind]\n",
    "print(sorted_data[:10])\n",
    "print()\n",
    "print(sorted_data[-10:])"
   ]
  },
  {
   "cell_type": "code",
   "execution_count": null,
   "metadata": {},
   "outputs": [],
   "source": [
    "data.head(10)"
   ]
  },
  {
   "cell_type": "code",
   "execution_count": null,
   "metadata": {},
   "outputs": [],
   "source": [
    "data.tail(10)"
   ]
  },
  {
   "cell_type": "code",
   "execution_count": null,
   "metadata": {},
   "outputs": [],
   "source": [
    "print(data.isnull().sum())\n",
    "print()\n",
    "print(data.info())\n",
    "df = pd.DataFrame(data)"
   ]
  },
  {
   "cell_type": "code",
   "execution_count": null,
   "metadata": {},
   "outputs": [],
   "source": [
    "df = pd.DataFrame(data)\n",
    "grouped = df.groupby('type')['imdb_score'].mean()\n",
    "plt.pie(grouped.values, labels = grouped.index, autopct='%.2f')\n",
    "plt.show()\n",
    "top10_imdb_score = df.sort_values(by = 'imdb_score',ascending= False).head(10)\n",
    "bars = plt.bar(top10_imdb_score['title'], top10_imdb_score['imdb_score'], color='blue')\n",
    "plt.xlabel('Title')\n",
    "plt.ylabel('IMDb Score')\n",
    "plt.title('IMDb Scores of top 10 Netflix Movies/Shows')\n",
    "for bar, rating in zip(bars, top10_imdb_score['imdb_score']):\n",
    "    plt.text(bar.get_x() + bar.get_width() / 2 - 0.1, bar.get_height() + 0.05, f'{rating:.1f}', ha='center')\n",
    "plt.xticks(rotation=90)\n",
    "plt.show()\n",
    "plt.figure(figsize=(10, 6))\n",
    "plt.scatter(df['imdb_score'], df['imdb_votes'], color='green')\n",
    "plt.xlabel('IMDb Score')\n",
    "plt.ylabel('IMDb Votes')\n",
    "plt.title('IMDb Scores vs IMDb Votes for Netflix Movies/Shows')\n",
    "plt.ylim(0,3000000)\n",
    "plt.ticklabel_format(style='plain',axis='y')\n",
    "plt.show()"
   ]
  },
  {
   "cell_type": "code",
   "execution_count": null,
   "metadata": {},
   "outputs": [],
   "source": [
    "cnn = sqlite3.connect('Netflix.db')\n",
    "%load_ext sql\n",
    "%sql sqlite:///Netflix.db"
   ]
  },
  {
   "cell_type": "code",
   "execution_count": 19,
   "metadata": {},
   "outputs": [
    {
     "name": "stderr",
     "output_type": "stream",
     "text": [
      "UsageError: Cell magic `%%sql` not found.\n"
     ]
    }
   ],
   "source": [
    "%%sql\n",
    "select title, type, release_year,runtime, imdb_score, imdb_votes\n",
    "from Netflix where imdb_score>8.5 order by imdb_votes desc limit 10\n",
    "%%sql\n",
    "select * from Netflix group by type having max(imdb_score)"
   ]
  },
  {
   "cell_type": "code",
   "execution_count": null,
   "metadata": {},
   "outputs": [],
   "source": [
    "%%sql\n",
    "select * from Netflix group by type having max(imdb_score)"
   ]
  },
  {
   "cell_type": "code",
   "execution_count": null,
   "metadata": {},
   "outputs": [],
   "source": [
    "%%sql\n",
    "select title, type, release_year,runtime, imdb_score, imdb_votes \n",
    "from Netflix where release_year>2000 and type =\"MOVIE\" order by imdb_score desc limit(20)\n",
    "numeric_columns= ['runtime','imdb_score','imdb_votes']\n",
    "sns.pairplot(data[numeric_columns])\n",
    "plt.suptitle('Pair Plot for Netflix Movie/Show Data',y=1.02)\n",
    "plt.show()"
   ]
  },
  {
   "cell_type": "code",
   "execution_count": null,
   "metadata": {},
   "outputs": [],
   "source": [
    "numeric_columns= ['runtime','imdb_score','imdb_votes']\n",
    "sns.pairplot(data[numeric_columns])\n",
    "plt.suptitle('Pair Plot for Netflix Movie/Show Data',y=1.02)\n",
    "plt.show()"
   ]
  }
 ],
 "metadata": {
  "kernelspec": {
   "display_name": "Python 3",
   "language": "python",
   "name": "python3"
  },
  "language_info": {
   "codemirror_mode": {
    "name": "ipython",
    "version": 3
   },
   "file_extension": ".py",
   "mimetype": "text/x-python",
   "name": "python",
   "nbconvert_exporter": "python",
   "pygments_lexer": "ipython3",
   "version": "3.12.1"
  }
 },
 "nbformat": 4,
 "nbformat_minor": 2
}
